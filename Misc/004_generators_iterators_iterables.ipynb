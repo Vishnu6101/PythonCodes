{
 "cells": [
  {
   "cell_type": "markdown",
   "metadata": {},
   "source": [
    "## Generators\n",
    "\n",
    "- Generators in Python are a special type of iterable that allow you to iterate over a sequence of values without storing them all in memory at once. This makes them particularly useful for working with large datasets or streams of data where loading everything into memory would be inefficient or impractical.\n",
    "\n",
    "- Generators are created using functions and the yield statement. Unlike regular functions that use return to send a result back, a generator function uses yield to produce a series of values, one at a time, and can be resumed between each call."
   ]
  },
  {
   "cell_type": "code",
   "execution_count": 1,
   "metadata": {},
   "outputs": [
    {
     "data": {
      "text/plain": [
       "<generator object square_nums at 0x7f51e5fb00b0>"
      ]
     },
     "execution_count": 1,
     "metadata": {},
     "output_type": "execute_result"
    }
   ],
   "source": [
    "def square_nums(nums):\n",
    "    for i in nums:\n",
    "        yield i**2\n",
    "\n",
    "nums = [1, 2, 3, 4, 5]\n",
    "result = square_nums(nums)\n",
    "\n",
    "result"
   ]
  },
  {
   "cell_type": "markdown",
   "metadata": {},
   "source": [
    "This returns only a generator object. Use `next()` to print the value one at a time"
   ]
  },
  {
   "cell_type": "code",
   "execution_count": 2,
   "metadata": {},
   "outputs": [
    {
     "name": "stdout",
     "output_type": "stream",
     "text": [
      "1\n",
      "4\n"
     ]
    }
   ],
   "source": [
    "print(next(result))\n",
    "print(next(result))"
   ]
  },
  {
   "cell_type": "code",
   "execution_count": 3,
   "metadata": {},
   "outputs": [
    {
     "data": {
      "text/plain": [
       "<generator object <genexpr> at 0x7f51e5fb12a0>"
      ]
     },
     "execution_count": 3,
     "metadata": {},
     "output_type": "execute_result"
    }
   ],
   "source": [
    "# Another way\n",
    "nums = [1, 2, 3, 4, 5]\n",
    "res = (x**2 for x in nums)\n",
    "\n",
    "res"
   ]
  },
  {
   "cell_type": "code",
   "execution_count": 4,
   "metadata": {},
   "outputs": [
    {
     "name": "stdout",
     "output_type": "stream",
     "text": [
      "1\n",
      "4\n",
      "9\n"
     ]
    }
   ],
   "source": [
    "print(next(res))\n",
    "print(next(res))\n",
    "print(next(res))"
   ]
  },
  {
   "cell_type": "code",
   "execution_count": 9,
   "metadata": {},
   "outputs": [
    {
     "name": "stdout",
     "output_type": "stream",
     "text": [
      "Defaulting to user installation because normal site-packages is not writeable\n",
      "Collecting memory_profiler\n",
      "  Downloading memory_profiler-0.61.0-py3-none-any.whl (31 kB)\n",
      "Requirement already satisfied: psutil in /home/user/.local/lib/python3.10/site-packages (from memory_profiler) (6.0.0)\n",
      "Installing collected packages: memory_profiler\n",
      "Successfully installed memory_profiler-0.61.0\n"
     ]
    }
   ],
   "source": [
    "!pip install memory_profiler"
   ]
  },
  {
   "cell_type": "code",
   "execution_count": 12,
   "metadata": {},
   "outputs": [
    {
     "name": "stdout",
     "output_type": "stream",
     "text": [
      "Before : Memory Utilized 74.8828125 Mb\n",
      "After : Memory Utilized 103.73828125 Mb\n",
      "Time taken : 0.06237912178039551\n",
      "Before : Memory Utilized 74.91015625 Mb\n",
      "After : Memory Utilized 74.91015625 Mb\n",
      "Time taken : 7.510185241699219e-05\n"
     ]
    }
   ],
   "source": [
    "import time\n",
    "import memory_profiler\n",
    "\n",
    "print(f\"Before : Memory Utilized {memory_profiler.memory_usage()[0]} Mb\")\n",
    "\n",
    "# List comprehension (takes up more memory)\n",
    "t1 = time.time()\n",
    "squares_list = [x * x for x in range(1000000)]\n",
    "t2 = time.time()\n",
    "\n",
    "print(f\"After : Memory Utilized {memory_profiler.memory_usage()[0]} Mb\")\n",
    "print(f\"Time taken : {t2 - t1}\")\n",
    "\n",
    "del squares_list\n",
    "\n",
    "print(f\"Before : Memory Utilized {memory_profiler.memory_usage()[0]} Mb\")\n",
    "\n",
    "# Generator expression (more memory efficient)\n",
    "t3 = time.time()\n",
    "squares_gen = (x * x for x in range(1000000))\n",
    "t4 = time.time()\n",
    "\n",
    "print(f\"After : Memory Utilized {memory_profiler.memory_usage()[0]} Mb\")\n",
    "print(f\"Time taken : {t4 - t3}\")"
   ]
  },
  {
   "cell_type": "markdown",
   "metadata": {},
   "source": [
    "With Generators, you can create iterators that are memory-efficient and can be used to process large or infinite sequences of data.\n",
    "\n",
    "Advantages of Generators\n",
    "1. Memory Efficiency: Generators do not store all the values in memory, which is beneficial when dealing with large datasets.\n",
    "2. Lazy Evaluation: Values are produced on-the-fly, making the computation of the next value only when needed.\n",
    "3. Pipelining Generators: You can chain generators together to create data processing pipelines."
   ]
  },
  {
   "cell_type": "markdown",
   "metadata": {},
   "source": [
    "## Iterators and Iterables\n",
    "\n",
    "\n",
    "### Iterable\n",
    "\n",
    "An iterable is any Python object, allowing it to be iterated over in a loop. Common examples of iterables include lists, tuples, strings, and dictionaries."
   ]
  },
  {
   "cell_type": "code",
   "execution_count": 1,
   "metadata": {},
   "outputs": [
    {
     "name": "stdout",
     "output_type": "stream",
     "text": [
      "1\n",
      "2\n",
      "3\n",
      "['__add__', '__class__', '__class_getitem__', '__contains__', '__delattr__', '__delitem__', '__dir__', '__doc__', '__eq__', '__format__', '__ge__', '__getattribute__', '__getitem__', '__gt__', '__hash__', '__iadd__', '__imul__', '__init__', '__init_subclass__', '__iter__', '__le__', '__len__', '__lt__', '__mul__', '__ne__', '__new__', '__reduce__', '__reduce_ex__', '__repr__', '__reversed__', '__rmul__', '__setattr__', '__setitem__', '__sizeof__', '__str__', '__subclasshook__', 'append', 'clear', 'copy', 'count', 'extend', 'index', 'insert', 'pop', 'remove', 'reverse', 'sort']\n"
     ]
    }
   ],
   "source": [
    "# Iterable\n",
    "my_list = [1, 2, 3]\n",
    "\n",
    "for i in my_list:\n",
    "    print(i)\n",
    "\n",
    "print(dir(my_list))"
   ]
  },
  {
   "cell_type": "markdown",
   "metadata": {},
   "source": [
    "An object is considered as iterable if it implements `__iter__()` method which returns an iterator"
   ]
  },
  {
   "cell_type": "markdown",
   "metadata": {},
   "source": [
    "### Iterator\n",
    "\n",
    "An iterator is an object representing a stream of data. It returns the data one element at a time. Iterators are created from iterables.\n",
    "\n",
    "An iterator must implement two methods: `__iter__()` and `__next__()`.\n",
    "1. The `__iter__()` method returns the iterator object itself.\n",
    "2. The `__next__()` method returns the next element from the stream of data and raises a StopIteration exception when there are no more elements.\n"
   ]
  },
  {
   "cell_type": "code",
   "execution_count": 2,
   "metadata": {},
   "outputs": [
    {
     "name": "stdout",
     "output_type": "stream",
     "text": [
      "1\n",
      "2\n",
      "3\n"
     ]
    },
    {
     "ename": "StopIteration",
     "evalue": "",
     "output_type": "error",
     "traceback": [
      "\u001b[0;31m---------------------------------------------------------------------------\u001b[0m",
      "\u001b[0;31mStopIteration\u001b[0m                             Traceback (most recent call last)",
      "Cell \u001b[0;32mIn[2], line 8\u001b[0m\n\u001b[1;32m      6\u001b[0m \u001b[38;5;28mprint\u001b[39m(\u001b[38;5;28mnext\u001b[39m(i_my_list))\n\u001b[1;32m      7\u001b[0m \u001b[38;5;28mprint\u001b[39m(\u001b[38;5;28mnext\u001b[39m(i_my_list))\n\u001b[0;32m----> 8\u001b[0m \u001b[38;5;28mprint\u001b[39m(\u001b[38;5;28;43mnext\u001b[39;49m\u001b[43m(\u001b[49m\u001b[43mi_my_list\u001b[49m\u001b[43m)\u001b[49m)\n",
      "\u001b[0;31mStopIteration\u001b[0m: "
     ]
    }
   ],
   "source": [
    "# Iterator\n",
    "my_list = [1, 2, 3]\n",
    "i_my_list = iter(my_list)\n",
    "\n",
    "print(next(i_my_list))\n",
    "print(next(i_my_list))\n",
    "print(next(i_my_list))\n",
    "print(next(i_my_list))"
   ]
  },
  {
   "cell_type": "markdown",
   "metadata": {},
   "source": [
    "### Creating a Custom Iterator"
   ]
  },
  {
   "cell_type": "code",
   "execution_count": 3,
   "metadata": {},
   "outputs": [
    {
     "name": "stdout",
     "output_type": "stream",
     "text": [
      "1\n",
      "2\n",
      "3\n",
      "4\n",
      "5\n",
      "6\n",
      "7\n",
      "8\n",
      "9\n"
     ]
    }
   ],
   "source": [
    "class MyRange:\n",
    "    def __init__(self, start, end):\n",
    "        self.value = start\n",
    "        self.end = end\n",
    "\n",
    "    def __iter__(self):\n",
    "        return self\n",
    "\n",
    "    def __next__(self):\n",
    "        if self.value >= self.end:\n",
    "            raise StopIteration\n",
    "        else:\n",
    "            current = self.value\n",
    "            self.value += 1\n",
    "            return current\n",
    "\n",
    "\n",
    "nums = MyRange(1, 10)\n",
    "\n",
    "for num in nums:\n",
    "    print(num)"
   ]
  },
  {
   "cell_type": "code",
   "execution_count": 4,
   "metadata": {},
   "outputs": [
    {
     "name": "stdout",
     "output_type": "stream",
     "text": [
      "1\n",
      "2\n",
      "3\n",
      "4\n",
      "5\n",
      "6\n",
      "7\n",
      "8\n",
      "9\n"
     ]
    }
   ],
   "source": [
    "# Generators are iterators as well\n",
    "# __iter__() and __next__() are created automatically\n",
    "\n",
    "def my_range(start, end):\n",
    "    current = start\n",
    "    while current < end:\n",
    "        yield current\n",
    "        current += 1\n",
    "\n",
    "nums = my_range(1, 10)\n",
    "\n",
    "print(next(nums))\n",
    "print(next(nums))\n",
    "\n",
    "for i in nums:\n",
    "    print(i)"
   ]
  },
  {
   "cell_type": "markdown",
   "metadata": {},
   "source": [
    "Iterators can be infinite. They don't need to have an end.\n",
    "\n",
    "```python\n",
    "def my_range(start):\n",
    "    current = start\n",
    "    while True:\n",
    "        yield current\n",
    "        current += 1\n",
    "\n",
    "my_range(1)\n",
    "```"
   ]
  },
  {
   "cell_type": "markdown",
   "metadata": {},
   "source": [
    "Iterable -- something that can be looped over, an object that returns an iterator object from `__iter__()` method.    \n",
    "Iterator -- must define the `__next__()` method, it is an object with a state so that it remembers where it is during an iteration and it knows how to fetch the next value. If there is no next value it raises `StopIteration` exception\n"
   ]
  },
  {
   "cell_type": "markdown",
   "metadata": {},
   "source": []
  }
 ],
 "metadata": {
  "kernelspec": {
   "display_name": "Python 3",
   "language": "python",
   "name": "python3"
  },
  "language_info": {
   "codemirror_mode": {
    "name": "ipython",
    "version": 3
   },
   "file_extension": ".py",
   "mimetype": "text/x-python",
   "name": "python",
   "nbconvert_exporter": "python",
   "pygments_lexer": "ipython3",
   "version": "3.10.12"
  }
 },
 "nbformat": 4,
 "nbformat_minor": 2
}
