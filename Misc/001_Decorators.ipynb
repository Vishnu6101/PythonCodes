{
 "cells": [
  {
   "cell_type": "markdown",
   "metadata": {},
   "source": [
    "## Python Decorators\n",
    "Python decorators is a function that takes in another funtion and entend it without explicitly modifying it.\n",
    "\n",
    "**Use Case :**    \n",
    "They are often used for logging, enforcing access control, instrumentation, caching, and more.\n",
    "\n",
    "**Definition :**    \n",
    "A function what returns a wrapper function"
   ]
  },
  {
   "cell_type": "code",
   "execution_count": 1,
   "metadata": {},
   "outputs": [
    {
     "name": "stdout",
     "output_type": "stream",
     "text": [
      "Wrapper Function is called before display\n",
      "Decorator display\n"
     ]
    }
   ],
   "source": [
    "def decorator_func(my_func):\n",
    "    def wrapper_func(*args, **kwargs):\n",
    "        print(f\"Wrapper Function is called before {my_func.__name__}\")\n",
    "        return my_func(*args, **kwargs)\n",
    "\n",
    "    return wrapper_func\n",
    "\n",
    "@decorator_func\n",
    "def display():\n",
    "    print(\"Decorator display\")\n",
    "\n",
    "display()"
   ]
  },
  {
   "cell_type": "markdown",
   "metadata": {},
   "source": [
    "*use @decorator_name or by this way (both are same)*\n",
    "\n",
    "```python\n",
    "decorator_display = decorator_func(display)\n",
    "decorator_display()\n",
    "```\n",
    "The decorator function returns a callable function which can be called"
   ]
  },
  {
   "cell_type": "markdown",
   "metadata": {},
   "source": [
    "### Decorators with multiple args, kwargs"
   ]
  },
  {
   "cell_type": "code",
   "execution_count": 2,
   "metadata": {},
   "outputs": [
    {
     "name": "stdout",
     "output_type": "stream",
     "text": [
      "Wrapper Function is called before display_info\n",
      "Decorator display information\n",
      "Name: Vishnu, Age: 10\n"
     ]
    }
   ],
   "source": [
    "# Decorators with multiple args, kwargs\n",
    "@decorator_func\n",
    "def display_info(name, age):\n",
    "    print(\"Decorator display information\")\n",
    "    print(f\"Name: {name}, Age: {age}\")\n",
    "\n",
    "display_info(\"Vishnu\", 10)\n"
   ]
  },
  {
   "cell_type": "markdown",
   "metadata": {},
   "source": [
    "### Decorators with class"
   ]
  },
  {
   "cell_type": "code",
   "execution_count": 3,
   "metadata": {},
   "outputs": [
    {
     "name": "stdout",
     "output_type": "stream",
     "text": [
      "Call method is called before display\n",
      "Decorator display\n"
     ]
    }
   ],
   "source": [
    "class decorator_class:\n",
    "\n",
    "    # instantiating the function in our class\n",
    "    def __init__(self, my_func):\n",
    "        self.my_func = my_func\n",
    "\n",
    "    # wrapper function\n",
    "    def __call__(self, *args, **kwargs):\n",
    "        print(f\"Call method is called before {self.my_func.__name__}\")\n",
    "        return self.my_func(*args, **kwargs)\n",
    "\n",
    "@decorator_class\n",
    "def display():\n",
    "    print(\"Decorator display\")\n",
    "\n",
    "display()        "
   ]
  },
  {
   "cell_type": "markdown",
   "metadata": {},
   "source": [
    "### Use case 1: Logging\n",
    "\n",
    "Keep track of how many times a function is executed and what arguments are passed to it"
   ]
  },
  {
   "cell_type": "code",
   "execution_count": 5,
   "metadata": {},
   "outputs": [
    {
     "name": "stdout",
     "output_type": "stream",
     "text": [
      "Decorator display information\n",
      "Name: Vishnu, Age: 10\n"
     ]
    }
   ],
   "source": [
    "def my_logger(my_func):\n",
    "\n",
    "    import logging\n",
    "    logging.basicConfig(filename = f\"{my_func.__name__}.log\", level=logging.INFO)\n",
    "\n",
    "    def wrapper_func(*args, **kwargs):\n",
    "        logging.info(f'{my_func.__name__} run with arguments: {args} and keyword arguments: {kwargs}')\n",
    "\n",
    "        return my_func(*args, **kwargs)\n",
    "    return wrapper_func\n",
    "\n",
    "@my_logger\n",
    "def display_info(name, age):\n",
    "    print(\"Decorator display information\")\n",
    "    print(f\"Name: {name}, Age: {age}\")\n",
    "\n",
    "display_info(\"Vishnu\", age=10)"
   ]
  },
  {
   "cell_type": "markdown",
   "metadata": {},
   "source": [
    "### Use case 2: Timer\n",
    "\n",
    "calculating the time taken for a function to be executed"
   ]
  },
  {
   "cell_type": "code",
   "execution_count": 6,
   "metadata": {},
   "outputs": [
    {
     "name": "stdout",
     "output_type": "stream",
     "text": [
      "Decorator display information\n",
      "Name: Vishnu, Age: 20\n",
      "display_info is executed in 2.002424716949463 seconds\n"
     ]
    }
   ],
   "source": [
    "def my_timer(func):\n",
    "    import time\n",
    "\n",
    "    def wrapper(*args, **kwargs):\n",
    "        t1 = time.time()\n",
    "        result = func(*args, **kwargs)\n",
    "        t2 = time.time() - t1\n",
    "        print(f\"{func.__name__} is executed in {t2} seconds\")\n",
    "        return result\n",
    "\n",
    "    return wrapper\n",
    "\n",
    "import time\n",
    "@my_timer\n",
    "def display_info(name, age):\n",
    "    time.sleep(2)\n",
    "    print(\"Decorator display information\")\n",
    "    print(f\"Name: {name}, Age: {age}\")\n",
    "\n",
    "display_info(\"Vishnu\", 20)"
   ]
  },
  {
   "cell_type": "markdown",
   "metadata": {},
   "source": [
    "### Multiple decorators for a single function"
   ]
  },
  {
   "cell_type": "code",
   "execution_count": 7,
   "metadata": {},
   "outputs": [
    {
     "name": "stdout",
     "output_type": "stream",
     "text": [
      "Decorator display information\n",
      "Name: Vishnu, Age: 15\n",
      "display_info is executed in 2.0015182495117188 seconds\n"
     ]
    }
   ],
   "source": [
    "@my_logger\n",
    "@my_timer\n",
    "def display_info(name, age):\n",
    "    time.sleep(2)\n",
    "    print(\"Decorator display information\")\n",
    "    print(f\"Name: {name}, Age: {age}\")\n",
    "\n",
    "display_info(\"Vishnu\", 15)"
   ]
  },
  {
   "cell_type": "markdown",
   "metadata": {},
   "source": [
    "This works fine but when we stack decorators it will be executed based on an order\n",
    "\n",
    "``` python\n",
    "# my_timer -> my_logger\n",
    "result = my_logger(my_timer(function))\n",
    "```\n",
    "\n",
    "Here my_logger(wrapper) will be the output of my_timer(function) so wrapper will be the function passed to my_logger and it will be logged\n",
    "``` markdown\n",
    "INFO:root:wrapper run with arguments: ('Vishnu', 15) and keyword arguments: {}\n",
    "*will be logged `wrapper` run with args...*\n",
    "```\n",
    "\n",
    "To execute decorators in the correct order we can use `functools.wraps()`"
   ]
  },
  {
   "cell_type": "code",
   "execution_count": 9,
   "metadata": {},
   "outputs": [
    {
     "name": "stdout",
     "output_type": "stream",
     "text": [
      "Decorator display information\n",
      "Name: Tom, Age: 100\n",
      "display_info is executed in 2.0023951530456543 seconds\n"
     ]
    }
   ],
   "source": [
    "from functools import wraps\n",
    "\n",
    "def my_logger(func):\n",
    "\n",
    "    import logging\n",
    "    logging.basicConfig(filename = f\"{func.__name__}.log\", level=logging.INFO)\n",
    "\n",
    "    @wraps(func)\n",
    "    def wrapper(*args, **kwargs):\n",
    "        logging.info(f'{func.__name__} run with arguments: {args} and keyword arguments: {kwargs}')\n",
    "\n",
    "        return func(*args, **kwargs)\n",
    "    return wrapper\n",
    "\n",
    "def my_timer(func):\n",
    "    import time\n",
    "\n",
    "    @wraps(func)\n",
    "    def wrapper(*args, **kwargs):\n",
    "        t1 = time.time()\n",
    "        result = func(*args, **kwargs)\n",
    "        t2 = time.time() - t1\n",
    "        print(f\"{func.__name__} is executed in {t2} seconds\")\n",
    "        return result\n",
    "\n",
    "    return wrapper\n",
    "\n",
    "\n",
    "@my_logger\n",
    "@my_timer\n",
    "def display_info(name, age):\n",
    "    time.sleep(2)\n",
    "    print(\"Decorator display information\")\n",
    "    print(f\"Name: {name}, Age: {age}\")\n",
    "\n",
    "display_info(\"Tom\", 100)\n"
   ]
  },
  {
   "cell_type": "markdown",
   "metadata": {},
   "source": [
    "### Decorators with Arguments"
   ]
  },
  {
   "cell_type": "code",
   "execution_count": 12,
   "metadata": {},
   "outputs": [
    {
     "name": "stdout",
     "output_type": "stream",
     "text": [
      "TEST: display is executed\n",
      "Decorator display\n"
     ]
    }
   ],
   "source": [
    "def decorator_args(arguments):\n",
    "    def my_decorator(func):\n",
    "        def wrapper(*args, **kwargs):\n",
    "            print(f\"{arguments}{func.__name__} is executed\")\n",
    "            return func()\n",
    "        return wrapper\n",
    "    return my_decorator\n",
    "\n",
    "\n",
    "@decorator_args(\"TEST: \")\n",
    "def display():\n",
    "    print(\"Decorator display\")\n",
    "\n",
    "display()"
   ]
  },
  {
   "cell_type": "markdown",
   "metadata": {},
   "source": [
    "Wrap the decorator function inside another function to accept arguments"
   ]
  },
  {
   "cell_type": "code",
   "execution_count": null,
   "metadata": {},
   "outputs": [],
   "source": []
  }
 ],
 "metadata": {
  "kernelspec": {
   "display_name": "Python 3",
   "language": "python",
   "name": "python3"
  },
  "language_info": {
   "codemirror_mode": {
    "name": "ipython",
    "version": 3
   },
   "file_extension": ".py",
   "mimetype": "text/x-python",
   "name": "python",
   "nbconvert_exporter": "python",
   "pygments_lexer": "ipython3",
   "version": "3.10.12"
  }
 },
 "nbformat": 4,
 "nbformat_minor": 2
}
