{
 "cells": [
  {
   "cell_type": "markdown",
   "metadata": {},
   "source": [
    "## Logging\n",
    "\n",
    "Logging in Python is a way to track events that happen when some software runs. It is a powerful way to keep track of what happens during the execution of a program, especially for debugging and monitoring purposes."
   ]
  },
  {
   "cell_type": "code",
   "execution_count": 1,
   "metadata": {},
   "outputs": [
    {
     "name": "stderr",
     "output_type": "stream",
     "text": [
      "DEBUG:root:Result: 30\n",
      "INFO:root:Result: 30\n",
      "WARNING:root:Result: 30\n",
      "ERROR:root:Result: 30\n",
      "CRITICAL:root:Result: 30\n"
     ]
    }
   ],
   "source": [
    "import logging\n",
    "\n",
    "# Logging to console\n",
    "logging.basicConfig(level = logging.DEBUG)\n",
    "\n",
    "\n",
    "def add_numbers(a, b):  \n",
    "    return a + b\n",
    "\n",
    "result = add_numbers(10, 20)\n",
    "logging.debug(f'Result: {result}')\n",
    "logging.info(f'Result: {result}')\n",
    "logging.warning(f'Result: {result}')\n",
    "logging.error(f'Result: {result}')\n",
    "logging.critical(f'Result: {result}')"
   ]
  },
  {
   "cell_type": "markdown",
   "metadata": {},
   "source": [
    "The level parameter specifies the lowest-severity log message a logger will handle, where `DEBUG` is the lowest built-in severity level and `CRITICAL` is the highest built-in severity level."
   ]
  },
  {
   "cell_type": "markdown",
   "metadata": {},
   "source": [
    "### Logging to a file"
   ]
  },
  {
   "cell_type": "code",
   "execution_count": 1,
   "metadata": {},
   "outputs": [],
   "source": [
    "# logging will not overwrite one basicConfig so restart and run to save it in file\n",
    "import logging\n",
    "\n",
    "logging.basicConfig(\n",
    "    filename = 'test.log', \n",
    "    level = logging.INFO,\n",
    "    format = '%(asctime)s:%(levelname)s:%(message)s')\n",
    "\n",
    "logging.warning(\"Some Error Occured\")"
   ]
  },
  {
   "cell_type": "code",
   "execution_count": 2,
   "metadata": {},
   "outputs": [],
   "source": [
    "class Employee:\n",
    "    def __init__(self, first, last):\n",
    "        self.first = first\n",
    "        self.last = last\n",
    "\n",
    "        logging.info(f'Created Employee: {self.fullname}')\n",
    "        \n",
    "    @property\n",
    "    def email(self):\n",
    "        return f\"{self.first} + '.' + {self.last} + '@company.com'\"\n",
    "\n",
    "    @property\n",
    "    def fullname(self):\n",
    "        return f\"{self.first} {self.last}\"\n",
    "\n",
    "emp1 = Employee(\"Vishnu\", \"kumar\")\n",
    "emp2 = Employee(\"Test\", \"User\")"
   ]
  },
  {
   "cell_type": "code",
   "execution_count": null,
   "metadata": {},
   "outputs": [],
   "source": []
  }
 ],
 "metadata": {
  "kernelspec": {
   "display_name": "Python 3",
   "language": "python",
   "name": "python3"
  },
  "language_info": {
   "codemirror_mode": {
    "name": "ipython",
    "version": 3
   },
   "file_extension": ".py",
   "mimetype": "text/x-python",
   "name": "python",
   "nbconvert_exporter": "python",
   "pygments_lexer": "ipython3",
   "version": "3.10.12"
  }
 },
 "nbformat": 4,
 "nbformat_minor": 2
}
