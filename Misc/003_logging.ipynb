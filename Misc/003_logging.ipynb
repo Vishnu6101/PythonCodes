{
 "cells": [
  {
   "cell_type": "markdown",
   "metadata": {},
   "source": [
    "## Logging\n",
    "\n",
    "Logging in Python is a way to track events that happen when some software runs. It is a powerful way to keep track of what happens during the execution of a program, especially for debugging and monitoring purposes."
   ]
  },
  {
   "cell_type": "code",
   "execution_count": 1,
   "metadata": {},
   "outputs": [
    {
     "name": "stderr",
     "output_type": "stream",
     "text": [
      "DEBUG:root:Result: 30\n",
      "INFO:root:Result: 30\n",
      "WARNING:root:Result: 30\n",
      "ERROR:root:Result: 30\n",
      "CRITICAL:root:Result: 30\n"
     ]
    }
   ],
   "source": [
    "import logging\n",
    "\n",
    "# Logging to console\n",
    "logging.basicConfig(level = logging.DEBUG)\n",
    "\n",
    "\n",
    "def add_numbers(a, b):  \n",
    "    return a + b\n",
    "\n",
    "result = add_numbers(10, 20)\n",
    "logging.debug(f'Result: {result}')\n",
    "logging.info(f'Result: {result}')\n",
    "logging.warning(f'Result: {result}')\n",
    "logging.error(f'Result: {result}')\n",
    "logging.critical(f'Result: {result}')"
   ]
  },
  {
   "cell_type": "markdown",
   "metadata": {},
   "source": [
    "The level parameter specifies the lowest-severity log message a logger will handle, where `DEBUG` is the lowest built-in severity level and `CRITICAL` is the highest built-in severity level."
   ]
  },
  {
   "cell_type": "markdown",
   "metadata": {},
   "source": [
    "### Logging to a file"
   ]
  },
  {
   "cell_type": "code",
   "execution_count": 1,
   "metadata": {},
   "outputs": [],
   "source": [
    "# logging will not overwrite one basicConfig so restart and run to save it in file\n",
    "# the root logger will not overwrite its basicConfig\n",
    "import logging\n",
    "\n",
    "logging.basicConfig(\n",
    "    filename = 'test.log', \n",
    "    level = logging.INFO,\n",
    "    format = '%(asctime)s:%(levelname)s:%(message)s')\n",
    "\n",
    "logging.warning(\"Some Error Occured\")"
   ]
  },
  {
   "cell_type": "code",
   "execution_count": 2,
   "metadata": {},
   "outputs": [],
   "source": [
    "class Employee:\n",
    "    def __init__(self, first, last):\n",
    "        self.first = first\n",
    "        self.last = last\n",
    "\n",
    "        logging.info(f'Created Employee: {self.fullname}')\n",
    "        \n",
    "    @property\n",
    "    def email(self):\n",
    "        return f\"{self.first} + '.' + {self.last} + '@company.com'\"\n",
    "\n",
    "    @property\n",
    "    def fullname(self):\n",
    "        return f\"{self.first} {self.last}\"\n",
    "\n",
    "emp1 = Employee(\"Vishnu\", \"kumar\")\n",
    "emp2 = Employee(\"Test\", \"User\")"
   ]
  },
  {
   "cell_type": "markdown",
   "metadata": {},
   "source": [
    "https://docs.python.org/3/library/logging.html#logrecord-attributes"
   ]
  },
  {
   "cell_type": "markdown",
   "metadata": {},
   "source": [
    "### Separate Loggers\n",
    "\n",
    "So that we can define different logging configs"
   ]
  },
  {
   "cell_type": "code",
   "execution_count": 1,
   "metadata": {},
   "outputs": [],
   "source": [
    "import logging\n",
    "import employee\n",
    "\n",
    "# create a log handler\n",
    "logger = logging.getLogger(__name__)\n",
    "logger.setLevel(logging.DEBUG) # setting log level\n",
    "\n",
    "# Formatters\n",
    "formatter = logging.Formatter('%(asctime)s:%(name)s:%(levelname)s:%(message)s')\n",
    "\n",
    "# Handlers\n",
    "file_handler = logging.FileHandler('sample.log')\n",
    "file_handler.setFormatter(formatter) # setting format\n",
    "logger.addHandler(file_handler) # adding file handler\n",
    "\n",
    "# file_handler.setLevel(logging.ERROR) setting file handler log level\n",
    "# only error msgs are captured in that file\n",
    "\n",
    "def add_numbers(a, b):\n",
    "    return a + b\n",
    "\n",
    "def divide_numbers(a, b):\n",
    "    try:\n",
    "        result = a / b\n",
    "    except ZeroDivisionError as e:\n",
    "        logger.exception(e) # logs the traceback\n",
    "    else:\n",
    "        return result\n",
    "\n",
    "result = add_numbers(10, 20)\n",
    "logger.debug(f'Result: {result}')\n",
    "logger.info(f'Result: {result}')\n",
    "logger.warning(f'Result: {result}')\n",
    "logger.error(f'Result: {result}')\n",
    "logger.critical(f'Result: {result}')\n",
    "\n",
    "divide_numbers(10, 0)\n",
    "\n",
    "emp1 = employee.Employee(\"Vishnu\", 10)\n",
    "emp2 = employee.Employee(\"Test\", 100)"
   ]
  },
  {
   "cell_type": "markdown",
   "metadata": {},
   "source": [
    "### Logging to the console"
   ]
  },
  {
   "cell_type": "code",
   "execution_count": 3,
   "metadata": {},
   "outputs": [
    {
     "name": "stderr",
     "output_type": "stream",
     "text": [
      "2024-07-07 10:04:26,865:__main__:DEBUG:Result: 30\n",
      "2024-07-07 10:04:26,866:__main__:INFO:Result: 30\n",
      "2024-07-07 10:04:26,867:__main__:WARNING:Result: 30\n",
      "2024-07-07 10:04:26,867:__main__:ERROR:Result: 30\n",
      "2024-07-07 10:04:26,868:__main__:CRITICAL:Result: 30\n",
      "2024-07-07 10:04:26,869:__main__:ERROR:division by zero\n",
      "Traceback (most recent call last):\n",
      "  File \"/tmp/ipykernel_26251/1362358519.py\", line 24, in divide_numbers\n",
      "    result = a / b\n",
      "ZeroDivisionError: division by zero\n"
     ]
    }
   ],
   "source": [
    "# Adding a stream handler to exisiting logger\n",
    "stream_handler = logging.StreamHandler()\n",
    "\n",
    "# setting the formatting\n",
    "stream_handler.setFormatter(formatter)\n",
    "\n",
    "logger.addHandler(stream_handler)\n",
    "\n",
    "\n",
    "result = add_numbers(10, 20)\n",
    "logger.debug(f'Result: {result}')\n",
    "logger.info(f'Result: {result}')\n",
    "logger.warning(f'Result: {result}')\n",
    "logger.error(f'Result: {result}')\n",
    "logger.critical(f'Result: {result}')\n",
    "\n",
    "divide_numbers(10, 0)"
   ]
  },
  {
   "cell_type": "markdown",
   "metadata": {},
   "source": [
    "### Managing Log file Sizes\n",
    "\n",
    "```python\n",
    "RotatingFileHandler\n",
    "TimedRotatingFileHandler\n",
    "```"
   ]
  },
  {
   "cell_type": "code",
   "execution_count": 1,
   "metadata": {},
   "outputs": [],
   "source": [
    "import logging\n",
    "\n",
    "r_logger = logging.getLogger(__name__)\n",
    "r_logger.setLevel(logging.DEBUG)\n",
    "\n",
    "r_handler = logging.handlers.RotatingFileHandler(filename = 'app.log', maxBytes=2000, backupCount = 3)\n",
    "\n",
    "formatter = logging.Formatter('%(asctime)s - %(name)s - %(levelname)s - %(message)s')\n",
    "r_handler.setFormatter(formatter)\n",
    "\n",
    "r_logger.addHandler(r_handler)\n",
    "\n",
    "for i in range(100):\n",
    "    r_logger.debug(f'This is log message {i}')"
   ]
  },
  {
   "cell_type": "markdown",
   "metadata": {},
   "source": [
    "Tthe handler will create app.log, and when it reaches 2000 bytes, it will be renamed to app.log.1. The current log file will continue as app.log. When app.log reaches 2000 bytes again, it will become app.log.1, and the previous app.log.1 will be renamed to app.log.2, and so on, up to 3 backup files."
   ]
  },
  {
   "cell_type": "markdown",
   "metadata": {},
   "source": [
    "```python\n",
    "handler = TimedRotatingFileHandler('timed_app.log', when='midnight', interval=1, backupCount=7)\n",
    "```\n",
    "The handler will create timed_app.log, and at midnight, it will be renamed to timed_app.log.1. The current log file will continue as timed_app.log. The previous log files will be renamed accordingly, up to 7 backup files."
   ]
  },
  {
   "cell_type": "code",
   "execution_count": null,
   "metadata": {},
   "outputs": [],
   "source": []
  }
 ],
 "metadata": {
  "kernelspec": {
   "display_name": "Python 3",
   "language": "python",
   "name": "python3"
  },
  "language_info": {
   "codemirror_mode": {
    "name": "ipython",
    "version": 3
   },
   "file_extension": ".py",
   "mimetype": "text/x-python",
   "name": "python",
   "nbconvert_exporter": "python",
   "pygments_lexer": "ipython3",
   "version": "3.10.12"
  }
 },
 "nbformat": 4,
 "nbformat_minor": 2
}
