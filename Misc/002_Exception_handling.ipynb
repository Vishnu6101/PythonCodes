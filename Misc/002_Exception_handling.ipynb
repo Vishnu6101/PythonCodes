{
 "cells": [
  {
   "cell_type": "markdown",
   "metadata": {},
   "source": [
    "## Exception handling\n",
    "\n",
    "Exception handling in Python is a way to handle errors gracefully and ensure the program can continue running or terminate properly without crashing. "
   ]
  },
  {
   "cell_type": "code",
   "execution_count": 1,
   "metadata": {},
   "outputs": [
    {
     "name": "stdout",
     "output_type": "stream",
     "text": [
      "Something happened wrong!!!\n"
     ]
    }
   ],
   "source": [
    "try:\n",
    "    result = 10 / 0\n",
    "except Exception:\n",
    "    print(\"Something happened wrong!!!\")"
   ]
  },
  {
   "cell_type": "markdown",
   "metadata": {},
   "source": [
    "`Exception` is used to catch all the exceptions\n",
    "\n",
    "### Catching specific exceptions"
   ]
  },
  {
   "cell_type": "code",
   "execution_count": 1,
   "metadata": {},
   "outputs": [
    {
     "name": "stdout",
     "output_type": "stream",
     "text": [
      "division by zero\n"
     ]
    }
   ],
   "source": [
    "try:\n",
    "    result = 10 / 0\n",
    "except ZeroDivisionError as e:\n",
    "    print(e)"
   ]
  },
  {
   "cell_type": "code",
   "execution_count": 2,
   "metadata": {},
   "outputs": [
    {
     "name": "stdout",
     "output_type": "stream",
     "text": [
      "[Errno 2] No such file or directory: 'abc.txt'\n"
     ]
    }
   ],
   "source": [
    "try:\n",
    "    f = open(\"abc.txt\")\n",
    "except FileNotFoundError as e:\n",
    "    print(e)"
   ]
  },
  {
   "cell_type": "markdown",
   "metadata": {},
   "source": [
    "### Catching multiple exceptions"
   ]
  },
  {
   "cell_type": "code",
   "execution_count": 3,
   "metadata": {},
   "outputs": [
    {
     "name": "stdout",
     "output_type": "stream",
     "text": [
      "[Errno 2] No such file or directory: 'abc.txt'\n"
     ]
    }
   ],
   "source": [
    "try:\n",
    "    f = open(\"abc.txt\")\n",
    "    result = 10 / 0\n",
    "except FileNotFoundError as e: # captures file not found error\n",
    "    print(e)\n",
    "except ZeroDivisionError as e: # capturs division by zero error\n",
    "    print(e)\n",
    "except Exception as e: # captures any other errors\n",
    "    print(e)"
   ]
  },
  {
   "cell_type": "markdown",
   "metadata": {},
   "source": [
    "### Else Block\n",
    "\n",
    "This block is executed if `no exceptions` are raised in the try block"
   ]
  },
  {
   "cell_type": "code",
   "execution_count": 4,
   "metadata": {},
   "outputs": [
    {
     "name": "stdout",
     "output_type": "stream",
     "text": [
      "No exceptions occurred\n"
     ]
    }
   ],
   "source": [
    "try:\n",
    "    result = 100\n",
    "except Exception as e:\n",
    "    print(e)\n",
    "else:\n",
    "    print(\"No exceptions occurred\")"
   ]
  },
  {
   "cell_type": "markdown",
   "metadata": {},
   "source": [
    "### Finally Block\n",
    "\n",
    "This block is used to execute the code regardless of an exception occurs or not"
   ]
  },
  {
   "cell_type": "code",
   "execution_count": 5,
   "metadata": {},
   "outputs": [
    {
     "name": "stdout",
     "output_type": "stream",
     "text": [
      "No exceptions occurred\n",
      "This code will always run\n"
     ]
    }
   ],
   "source": [
    "try:\n",
    "    result = 100\n",
    "except Exception as e:\n",
    "    print(e)\n",
    "else:\n",
    "    print(\"No exceptions occurred\")\n",
    "finally:\n",
    "    del result\n",
    "    print(\"This code will always run\")\n",
    "\n",
    "# close the file, db connection can be done in finally block"
   ]
  },
  {
   "cell_type": "markdown",
   "metadata": {},
   "source": [
    "### Raising Exceptions"
   ]
  },
  {
   "cell_type": "code",
   "execution_count": 6,
   "metadata": {},
   "outputs": [
    {
     "name": "stdout",
     "output_type": "stream",
     "text": [
      "Number must be positive\n"
     ]
    }
   ],
   "source": [
    "def check_positive(num):\n",
    "    if num < 0:\n",
    "        raise ValueError(\"Number must be positive\")\n",
    "\n",
    "try:\n",
    "    check_positive(-1)\n",
    "except Exception as e:\n",
    "    print(e)"
   ]
  },
  {
   "cell_type": "code",
   "execution_count": null,
   "metadata": {},
   "outputs": [],
   "source": []
  }
 ],
 "metadata": {
  "kernelspec": {
   "display_name": "Python 3",
   "language": "python",
   "name": "python3"
  },
  "language_info": {
   "codemirror_mode": {
    "name": "ipython",
    "version": 3
   },
   "file_extension": ".py",
   "mimetype": "text/x-python",
   "name": "python",
   "nbconvert_exporter": "python",
   "pygments_lexer": "ipython3",
   "version": "3.10.12"
  }
 },
 "nbformat": 4,
 "nbformat_minor": 2
}
