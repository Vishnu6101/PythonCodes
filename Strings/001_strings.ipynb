{
 "cells": [
  {
   "cell_type": "markdown",
   "metadata": {},
   "source": [
    "## Working with text data"
   ]
  },
  {
   "cell_type": "code",
   "execution_count": 1,
   "metadata": {},
   "outputs": [
    {
     "name": "stdout",
     "output_type": "stream",
     "text": [
      "Hello World\n"
     ]
    }
   ],
   "source": [
    "print(\"Hello World\")"
   ]
  },
  {
   "cell_type": "markdown",
   "metadata": {},
   "source": [
    "## Variables\n",
    "\n",
    "*Variable names must be as descriptive as possible*"
   ]
  },
  {
   "cell_type": "code",
   "execution_count": 2,
   "metadata": {},
   "outputs": [
    {
     "name": "stdout",
     "output_type": "stream",
     "text": [
      "Hello World\n"
     ]
    }
   ],
   "source": [
    "# Variable\n",
    "message = 'Hello World'\n",
    "print(message)"
   ]
  },
  {
   "cell_type": "markdown",
   "metadata": {},
   "source": [
    "### Strings with single and double quotes"
   ]
  },
  {
   "cell_type": "code",
   "execution_count": 3,
   "metadata": {},
   "outputs": [
    {
     "name": "stdout",
     "output_type": "stream",
     "text": [
      "Vishnu's World\n",
      "Vishnu's World\n"
     ]
    }
   ],
   "source": [
    "# escaping a single quote\n",
    "message = 'Vishnu\\'s World'\n",
    "print(message)\n",
    "\n",
    "message = \"Vishnu's World\"\n",
    "print(message)"
   ]
  },
  {
   "cell_type": "markdown",
   "metadata": {},
   "source": [
    "### Multi line Strings (single or double quotes)"
   ]
  },
  {
   "cell_type": "code",
   "execution_count": 5,
   "metadata": {},
   "outputs": [
    {
     "name": "stdout",
     "output_type": "stream",
     "text": [
      "Python is \n",
      "a \n",
      "Programming \n",
      "Language\n",
      "Python is \n",
      "a Programming Language\n"
     ]
    }
   ],
   "source": [
    "message = \"\"\"Python is \n",
    "a \n",
    "Programming \n",
    "Language\"\"\"\n",
    "\n",
    "print(message)\n",
    "\n",
    "message = '''Python is \n",
    "a Programming Language'''\n",
    "\n",
    "print(message)"
   ]
  },
  {
   "cell_type": "markdown",
   "metadata": {},
   "source": [
    "### Accessing individual characters"
   ]
  },
  {
   "cell_type": "code",
   "execution_count": 6,
   "metadata": {},
   "outputs": [
    {
     "name": "stdout",
     "output_type": "stream",
     "text": [
      "11\n",
      "H\n",
      "d\n"
     ]
    }
   ],
   "source": [
    "message = 'Hello World'\n",
    "\n",
    "# Length of a String\n",
    "print(len(message))\n",
    "\n",
    "# Indexing\n",
    "print(message[0])\n",
    "print(message[10])\n",
    "# print(message[11]) -- IndexError : string index out of range"
   ]
  },
  {
   "cell_type": "markdown",
   "metadata": {},
   "source": [
    "### Slicing"
   ]
  },
  {
   "cell_type": "code",
   "execution_count": 7,
   "metadata": {},
   "outputs": [
    {
     "name": "stdout",
     "output_type": "stream",
     "text": [
      "Hello\n",
      "Hello\n",
      "World\n"
     ]
    }
   ],
   "source": [
    "# message[start : stop : step]\n",
    "print(message[0:5])\n",
    "print(message[:5])\n",
    "\n",
    "print(message[6:])"
   ]
  },
  {
   "cell_type": "markdown",
   "metadata": {},
   "source": [
    "### String Methods"
   ]
  },
  {
   "cell_type": "code",
   "execution_count": 8,
   "metadata": {},
   "outputs": [
    {
     "name": "stdout",
     "output_type": "stream",
     "text": [
      "hello world\n",
      "HELLO WORLD\n",
      "3\n",
      "1\n",
      "0\n",
      "2\n",
      "-1\n"
     ]
    }
   ],
   "source": [
    "message = 'Hello World'\n",
    "\n",
    "# lowercase\n",
    "print(message.lower())\n",
    "\n",
    "# uppercase\n",
    "print(message.upper())\n",
    "\n",
    "# count a string\n",
    "print(message.count('l'))\n",
    "print(message.count('Hello'))\n",
    "\n",
    "# Find the starting index of the word in a string\n",
    "print(message.find('Hello'))\n",
    "print(message.find('l'))\n",
    "print(message.find('as'))"
   ]
  },
  {
   "cell_type": "code",
   "execution_count": 11,
   "metadata": {},
   "outputs": [
    {
     "name": "stdout",
     "output_type": "stream",
     "text": [
      "Hello World Hello Universe\n"
     ]
    }
   ],
   "source": [
    "# Replace in a string\n",
    "new_msg = message.replace('World', 'Universe') \n",
    "# Replace is not inplace so it must be stored in a variable\n",
    "print(message, new_msg)"
   ]
  },
  {
   "cell_type": "code",
   "execution_count": 12,
   "metadata": {},
   "outputs": [
    {
     "name": "stdout",
     "output_type": "stream",
     "text": [
      "HelloVishnu\n",
      "Hello, Vishnu\n",
      "Hello, Vishnu. Welcome!\n"
     ]
    }
   ],
   "source": [
    "# String concatenation\n",
    "\n",
    "greeting = 'Hello'\n",
    "name = 'Vishnu'\n",
    "\n",
    "message = greeting + name\n",
    "print(message) # no space\n",
    "\n",
    "message = greeting + ', ' + name\n",
    "print(message)\n",
    "\n",
    "message = greeting + ', ' + name + '. Welcome!'\n",
    "print(message)"
   ]
  },
  {
   "cell_type": "code",
   "execution_count": 13,
   "metadata": {},
   "outputs": [
    {
     "name": "stdout",
     "output_type": "stream",
     "text": [
      "Hello, Vishnu. Welcome!\n",
      "Hello, Vishnu. Welcome!\n",
      "Hello, VISHNU. Welcome!\n"
     ]
    }
   ],
   "source": [
    "# formatted String -- easier to read\n",
    "message = '{}, {}. Welcome!'.format(greeting, name)\n",
    "print(message)\n",
    "\n",
    "# using f string\n",
    "message = f'{greeting}, {name}. Welcome!'\n",
    "print(message)\n",
    "\n",
    "# Code can be written inside the place holders in f strings\n",
    "message = f'{greeting}, {name.upper()}. Welcome!'\n",
    "print(message)"
   ]
  },
  {
   "cell_type": "code",
   "execution_count": 14,
   "metadata": {},
   "outputs": [
    {
     "name": "stdout",
     "output_type": "stream",
     "text": [
      "['__add__', '__class__', '__contains__', '__delattr__', '__dir__', '__doc__', '__eq__', '__format__', '__ge__', '__getattribute__', '__getitem__', '__getnewargs__', '__gt__', '__hash__', '__init__', '__init_subclass__', '__iter__', '__le__', '__len__', '__lt__', '__mod__', '__mul__', '__ne__', '__new__', '__reduce__', '__reduce_ex__', '__repr__', '__rmod__', '__rmul__', '__setattr__', '__sizeof__', '__str__', '__subclasshook__', 'capitalize', 'casefold', 'center', 'count', 'encode', 'endswith', 'expandtabs', 'find', 'format', 'format_map', 'index', 'isalnum', 'isalpha', 'isascii', 'isdecimal', 'isdigit', 'isidentifier', 'islower', 'isnumeric', 'isprintable', 'isspace', 'istitle', 'isupper', 'join', 'ljust', 'lower', 'lstrip', 'maketrans', 'partition', 'replace', 'rfind', 'rindex', 'rjust', 'rpartition', 'rsplit', 'rstrip', 'split', 'splitlines', 'startswith', 'strip', 'swapcase', 'title', 'translate', 'upper', 'zfill']\n"
     ]
    }
   ],
   "source": [
    "# Listing all the attributes and functions available\n",
    "print(dir(message))"
   ]
  },
  {
   "cell_type": "code",
   "execution_count": null,
   "metadata": {},
   "outputs": [],
   "source": [
    "# use help function to see more details\n",
    "print(help(str))"
   ]
  },
  {
   "cell_type": "code",
   "execution_count": 16,
   "metadata": {},
   "outputs": [
    {
     "name": "stdout",
     "output_type": "stream",
     "text": [
      "Help on method_descriptor:\n",
      "\n",
      "lower(self, /)\n",
      "    Return a copy of the string converted to lowercase.\n",
      "\n",
      "None\n"
     ]
    }
   ],
   "source": [
    "# for a specific function\n",
    "print(help(str.lower))"
   ]
  },
  {
   "cell_type": "code",
   "execution_count": null,
   "metadata": {},
   "outputs": [],
   "source": []
  }
 ],
 "metadata": {
  "kernelspec": {
   "display_name": "Python 3",
   "language": "python",
   "name": "python3"
  },
  "language_info": {
   "codemirror_mode": {
    "name": "ipython",
    "version": 3
   },
   "file_extension": ".py",
   "mimetype": "text/x-python",
   "name": "python",
   "nbconvert_exporter": "python",
   "pygments_lexer": "ipython3",
   "version": "3.8.10"
  },
  "orig_nbformat": 4
 },
 "nbformat": 4,
 "nbformat_minor": 2
}
